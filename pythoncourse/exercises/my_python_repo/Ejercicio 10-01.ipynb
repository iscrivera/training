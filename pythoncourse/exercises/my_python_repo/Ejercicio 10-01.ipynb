{
 "cells": [
  {
   "cell_type": "markdown",
   "metadata": {},
   "source": [
    "# Numpy Arrays"
   ]
  },
  {
   "cell_type": "markdown",
   "metadata": {},
   "source": [
    "### Import numpy module"
   ]
  },
  {
   "cell_type": "code",
   "execution_count": null,
   "metadata": {},
   "outputs": [],
   "source": [
    "import numpy as np"
   ]
  },
  {
   "cell_type": "markdown",
   "metadata": {},
   "source": [
    "### Create a numpy array"
   ]
  },
  {
   "cell_type": "code",
   "execution_count": null,
   "metadata": {},
   "outputs": [],
   "source": [
    "# We create a 1D ndarray that contains only integers\n",
    "x = np.array([1, 2, 3, 4, 5])\n",
    "\n",
    "# Let's print the ndarray we just created using the print() command\n",
    "print('x = ', x)"
   ]
  },
  {
   "cell_type": "markdown",
   "metadata": {},
   "source": [
    "### Describe the simple array"
   ]
  },
  {
   "cell_type": "code",
   "execution_count": null,
   "metadata": {},
   "outputs": [],
   "source": [
    "# We create a rank 1 ndarray that only contains strings\n",
    "x = np.array(['Hello', 'World'])\n",
    "\n",
    "# We print x\n",
    "print()\n",
    "print('x = ', x)\n",
    "print()\n",
    "\n",
    "# We print information about x\n",
    "print('x has dimensions:', x.shape)\n",
    "print('x is an object of type:', type(x))\n",
    "print('The elements in x are of type:', x.dtype)"
   ]
  },
  {
   "cell_type": "markdown",
   "metadata": {},
   "source": [
    "### Describe the multimensional array"
   ]
  },
  {
   "cell_type": "code",
   "execution_count": null,
   "metadata": {},
   "outputs": [],
   "source": [
    "# We create a rank 2 ndarray that only contains integers\n",
    "Y = np.array([[1,2,3],[4,5,6],[7,8,9], [10,11,12]])\n",
    "\n",
    "# We print Y\n",
    "print()\n",
    "print('Y = \\n', Y)\n",
    "print()\n",
    "\n",
    "# We print information about Y\n",
    "print('Y has dimensions:', Y.shape)\n",
    "print('Y has a total of', Y.size, 'elements')\n",
    "print('Y is an object of type:', type(Y))\n",
    "print('The elements in Y are of type:', Y.dtype)"
   ]
  },
  {
   "cell_type": "markdown",
   "metadata": {},
   "source": [
    "# Accessing, Deleting, and Inserting Elements Into ndarrays"
   ]
  },
  {
   "cell_type": "markdown",
   "metadata": {},
   "source": [
    "### Accessing a simple array"
   ]
  },
  {
   "cell_type": "code",
   "execution_count": null,
   "metadata": {},
   "outputs": [],
   "source": [
    "# We create a rank 1 ndarray that contains integers from 1 to 5\n",
    "x = np.array([1, 2, 3, 4, 5])\n",
    "\n",
    "# We print x\n",
    "print()\n",
    "print('x = ', x)\n",
    "print()\n",
    "\n",
    "# Let's access some elements with positive indices\n",
    "print('This is First Element in x:', x[0]) \n",
    "print('This is Second Element in x:', x[1])\n",
    "print('This is Fifth (Last) Element in x:', x[4])\n",
    "print()\n",
    "\n",
    "# Let's access the same elements with negative indices\n",
    "print('This is First Element in x:', x[-5])\n",
    "print('This is Second Element in x:', x[-4])\n",
    "print('This is Fifth (Last) Element in x:', x[-1])"
   ]
  },
  {
   "cell_type": "markdown",
   "metadata": {},
   "source": [
    "### Accessing a multidimensional array"
   ]
  },
  {
   "cell_type": "code",
   "execution_count": null,
   "metadata": {},
   "outputs": [],
   "source": [
    "# We create a 3 x 3 rank 2 ndarray that contains integers from 1 to 9\n",
    "X = np.array([[1,2,3],[4,5,6],[7,8,9]])\n",
    "\n",
    "# We print X\n",
    "print()\n",
    "print('X = \\n', X)\n",
    "print()\n",
    "\n",
    "# Let's access some elements in X\n",
    "print('This is (0,0) Element in X:', X[0,0])\n",
    "print('This is (0,1) Element in X:', X[0,1])\n",
    "print('This is (2,2) Element in X:', X[2,2])"
   ]
  },
  {
   "cell_type": "markdown",
   "metadata": {},
   "source": [
    "### Deleting a array element"
   ]
  },
  {
   "cell_type": "code",
   "execution_count": null,
   "metadata": {},
   "outputs": [],
   "source": [
    "# We create a rank 1 ndarray \n",
    "x = np.array([1, 2, 3, 4, 5])\n",
    "\n",
    "# We create a rank 2 ndarray\n",
    "Y = np.array([[1,2,3],[4,5,6],[7,8,9]])\n",
    "\n",
    "# We print x\n",
    "print()\n",
    "print('Original x = ', x)\n",
    "\n",
    "# We delete the first and last element of x\n",
    "x = np.delete(x, [0,4])\n",
    "\n",
    "# We print x with the first and last element deleted\n",
    "print()\n",
    "print('Modified x = ', x)\n",
    "\n",
    "# We print Y\n",
    "print()\n",
    "print('Original Y = \\n', Y)\n",
    "\n",
    "# We delete the first row of y\n",
    "w = np.delete(Y, 0, axis=0)\n",
    "\n",
    "# We delete the first and last column of y\n",
    "v = np.delete(Y, [0,2], axis=1)\n",
    "\n",
    "# We print w\n",
    "print()\n",
    "print('w = \\n', w)\n",
    "\n",
    "# We print v\n",
    "print()\n",
    "print('v = \\n', v)"
   ]
  },
  {
   "cell_type": "markdown",
   "metadata": {},
   "source": [
    "### Append elements"
   ]
  },
  {
   "cell_type": "code",
   "execution_count": null,
   "metadata": {},
   "outputs": [],
   "source": [
    "# We create a rank 1 ndarray \n",
    "x = np.array([1, 2, 3, 4, 5])\n",
    "\n",
    "# We create a rank 2 ndarray \n",
    "Y = np.array([[1,2,3],[4,5,6]])\n",
    "\n",
    "# We print x\n",
    "print()\n",
    "print('Original x = ', x)\n",
    "\n",
    "# We append the integer 6 to x\n",
    "x = np.append(x, 6)\n",
    "\n",
    "# We print x\n",
    "print()\n",
    "print('x = ', x)\n",
    "\n",
    "# We append the integer 7 and 8 to x\n",
    "x = np.append(x, [7,8])\n",
    "\n",
    "# We print x\n",
    "print()\n",
    "print('x = ', x)\n",
    "\n",
    "# We print Y\n",
    "print()\n",
    "print('Original Y = \\n', Y)\n",
    "\n",
    "# We append a new row containing 7,8,9 to y\n",
    "v = np.append(Y, [[7,8,9]], axis=0)\n",
    "\n",
    "# We append a new column containing 9 and 10 to y\n",
    "q = np.append(Y,[[9],[10]], axis=1)\n",
    "\n",
    "# We print v\n",
    "print()\n",
    "print('v = \\n', v)\n",
    "\n",
    "# We print q\n",
    "print()\n",
    "print('q = \\n', q)"
   ]
  },
  {
   "cell_type": "markdown",
   "metadata": {},
   "source": [
    "### Insert elements"
   ]
  },
  {
   "cell_type": "code",
   "execution_count": null,
   "metadata": {},
   "outputs": [],
   "source": [
    "# We create a rank 1 ndarray \n",
    "x = np.array([1, 2, 5, 6, 7])\n",
    "\n",
    "# We create a rank 2 ndarray \n",
    "Y = np.array([[1,2,3],[7,8,9]])\n",
    "\n",
    "# We print x\n",
    "print()\n",
    "print('Original x = ', x)\n",
    "\n",
    "# We insert the integer 3 and 4 between 2 and 5 in x. \n",
    "x = np.insert(x,2,[3,4])\n",
    "\n",
    "# We print x with the inserted elements\n",
    "print()\n",
    "print('x = ', x)\n",
    "\n",
    "# We print Y\n",
    "print()\n",
    "print('Original Y = \\n', Y)\n",
    "\n",
    "# We insert a row between the first and last row of y\n",
    "w = np.insert(Y,1,[4,5,6],axis=0)\n",
    "\n",
    "# We insert a column full of 5s between the first and second column of y\n",
    "v = np.insert(Y,1,5, axis=1)\n",
    "\n",
    "# We print w\n",
    "print()\n",
    "print('w = \\n', w)\n",
    "\n",
    "# We print v\n",
    "print()\n",
    "print('v = \\n', v)"
   ]
  },
  {
   "cell_type": "code",
   "execution_count": null,
   "metadata": {},
   "outputs": [],
   "source": []
  }
 ],
 "metadata": {
  "kernelspec": {
   "display_name": "Python 3",
   "language": "python",
   "name": "python3"
  },
  "language_info": {
   "codemirror_mode": {
    "name": "ipython",
    "version": 3
   },
   "file_extension": ".py",
   "mimetype": "text/x-python",
   "name": "python",
   "nbconvert_exporter": "python",
   "pygments_lexer": "ipython3",
   "version": "3.7.6"
  }
 },
 "nbformat": 4,
 "nbformat_minor": 4
}

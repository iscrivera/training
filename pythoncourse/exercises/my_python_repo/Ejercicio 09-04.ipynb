{
 "cells": [
  {
   "cell_type": "markdown",
   "metadata": {},
   "source": [
    "# Lección 09 - Ejercicio 04"
   ]
  },
  {
   "cell_type": "markdown",
   "metadata": {},
   "source": [
    "### Cree una función que abra y lea el archivo `flowers.txt`, lea cada línea y la guarde como un diccionario. La función principal debe tomar la entrada del usuario (nombre y apellido del usuario), analizar la entrada del usuario e identificar la primera letra del nombre. Luego debe usarlo para imprimir el nombre de la flor con la misma primera letra (del diccionario creado en la primera función).\n",
    "\n",
    "Ejemplo del resultado esperado:\n",
    "\n",
    "```py\n",
    ">>> Enter your First [space] Last name only: Bill Newman\n",
    ">>> Unique flower name with the first letter: Bellflower\n",
    "```"
   ]
  },
  {
   "cell_type": "markdown",
   "metadata": {},
   "source": [
    "### Use el archivo template `ejercicio_09_04.py`"
   ]
  },
  {
   "cell_type": "code",
   "execution_count": null,
   "metadata": {},
   "outputs": [],
   "source": []
  }
 ],
 "metadata": {
  "kernelspec": {
   "display_name": "Python 3",
   "language": "python",
   "name": "python3"
  },
  "language_info": {
   "codemirror_mode": {
    "name": "ipython",
    "version": 3
   },
   "file_extension": ".py",
   "mimetype": "text/x-python",
   "name": "python",
   "nbconvert_exporter": "python",
   "pygments_lexer": "ipython3",
   "version": "3.7.6"
  }
 },
 "nbformat": 4,
 "nbformat_minor": 4
}

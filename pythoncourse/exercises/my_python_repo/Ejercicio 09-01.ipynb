{
 "cells": [
  {
   "cell_type": "markdown",
   "metadata": {},
   "source": [
    "# Lección 09 - Ejercicio 01"
   ]
  },
  {
   "cell_type": "markdown",
   "metadata": {},
   "source": [
    "### Imagine que es un maestro que necesita enviar un mensaje a cada uno de sus alumnos para recordarles sus tareas faltantes y su calificación en la clase. Tiene cada uno de sus nombres, número de tareas faltantes y calificaciones en una hoja de cálculo y solo tiene que insertarlos en los marcadores de este mensaje que se le ocurrió:\n",
    "\n",
    "\n",
    "    Hi [insert student name],\n",
    "\n",
    "    This is a reminder that you have [insert number of missing assignments] assignments left to submit before you can graduate. Your current grade is [insert current grade] and can increase to [insert potential grade] if you submit all assignments before the due date.\n",
    "    \n",
    "### Cada tarea cuenta 2 dos puntos.\n",
    "\n",
    "### Escriba un programa que solicite la entrada de usuario 3 veces. Una vez para obtener una lista de nombres, otra para obtener una lista de los recuentos de tareas faltantes y una última  para obtener la lista de calificaciones. Use estas entradas para crear listas de nombres, tareas y calificaciones."
   ]
  },
  {
   "cell_type": "markdown",
   "metadata": {},
   "source": [
    "### El programa debería comportarse de la siguiente forma:\n",
    "\n",
    "```\n",
    "Enter names separated by commas: Roger, Gerard, Alex, Will\n",
    "Enter assignment counts separated by commas: 3, 6, 0, 2\n",
    "Enter grades separated by commas: 81, 77, 92, 88\n",
    "\n",
    "Hi Roger,\n",
    "\n",
    "This is a reminder that you have 3 assignments left to submit before you can graduate. You're current grade is 81 and can increase to 87 if you submit all assignments before the due date.\n",
    "\n",
    "\n",
    "Hi  Gerard,\n",
    "\n",
    "This is a reminder that you have  6 assignments left to submit before you can graduate. You're current grade is  77 and can increase to 89 if you submit all assignments before the due date.\n",
    "\n",
    "\n",
    "Hi  Alex,\n",
    "\n",
    "This is a reminder that you have  0 assignments left to submit before you can graduate. You're current grade is  92 and can increase to 92 if you submit all assignments before the due date.\n",
    "\n",
    "\n",
    "Hi  Will,\n",
    "\n",
    "This is a reminder that you have  2 assignments left to submit before you can graduate. You're current grade is  88 and can increase to 92 if you submit all assignments before the due date.\n",
    "```"
   ]
  },
  {
   "cell_type": "markdown",
   "metadata": {},
   "source": [
    "### Use el archivo template `ejercicio_09_01.py`"
   ]
  },
  {
   "cell_type": "code",
   "execution_count": null,
   "metadata": {},
   "outputs": [],
   "source": []
  }
 ],
 "metadata": {
  "kernelspec": {
   "display_name": "Python 3",
   "language": "python",
   "name": "python3"
  },
  "language_info": {
   "codemirror_mode": {
    "name": "ipython",
    "version": 3
   },
   "file_extension": ".py",
   "mimetype": "text/x-python",
   "name": "python",
   "nbconvert_exporter": "python",
   "pygments_lexer": "ipython3",
   "version": "3.7.6"
  }
 },
 "nbformat": 4,
 "nbformat_minor": 4
}

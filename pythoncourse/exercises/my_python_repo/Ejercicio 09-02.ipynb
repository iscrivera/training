{
 "cells": [
  {
   "cell_type": "markdown",
   "metadata": {},
   "source": [
    "# Lección 09 - Ejercicio 02"
   ]
  },
  {
   "cell_type": "markdown",
   "metadata": {},
   "source": [
    "### La siguiente función `party_planner` toma como entrada una cantidad de personas y bocadillos para la fiesta y calcula cuántos bocadillos recibe cada persona en la fiesta, suponiendo una distribución equitativa de los bocadillos. Luego, devuelve ese número junto con cuántos bocadillos quedarán.\n",
    "\n",
    "### En este momento, llamar a la función con una entrada de 0 personas provocará un error, ya que crea una excepción ´ZeroDivisionError´. Edite la función party_planner para manejar esta entrada no válida. Si se encuentra con esta excepción, debe imprimir un mensaje de advertencia al usuario y solicitarle que ingrese un número diferente de personas."
   ]
  },
  {
   "cell_type": "markdown",
   "metadata": {},
   "source": [
    "### Use el archivo template `ejercicio_09_02.py`"
   ]
  },
  {
   "cell_type": "code",
   "execution_count": null,
   "metadata": {},
   "outputs": [],
   "source": []
  }
 ],
 "metadata": {
  "kernelspec": {
   "display_name": "Python 3",
   "language": "python",
   "name": "python3"
  },
  "language_info": {
   "codemirror_mode": {
    "name": "ipython",
    "version": 3
   },
   "file_extension": ".py",
   "mimetype": "text/x-python",
   "name": "python",
   "nbconvert_exporter": "python",
   "pygments_lexer": "ipython3",
   "version": "3.7.6"
  }
 },
 "nbformat": 4,
 "nbformat_minor": 4
}

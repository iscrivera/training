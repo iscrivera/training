{
 "cells": [
  {
   "cell_type": "markdown",
   "metadata": {},
   "source": [
    "# Lección 06 - Ejercicio 01"
   ]
  },
  {
   "cell_type": "markdown",
   "metadata": {},
   "source": [
    "### Escriba una sentencia ```if``` que devuelva como resultado el premio que se puede obtener dependiendo el número de puntos que se tenga con base en la siguiente tabla:\n",
    "\n",
    "| Points | Prize |\n",
    "|--|--|\n",
    "| 1 - 50\t| wooden rabbit\t|\n",
    "| 51 - 150\t| no prize\t|\n",
    "| 151 - 180\t| wafer-thin mint|\n",
    "| 181 - 200 \t| penguin|\n"
   ]
  },
  {
   "cell_type": "code",
   "execution_count": null,
   "metadata": {},
   "outputs": [],
   "source": [
    "points = 174"
   ]
  },
  {
   "cell_type": "code",
   "execution_count": null,
   "metadata": {},
   "outputs": [],
   "source": [
    "# Complete el código para determinar el premio asignado\n",
    "if points:\n",
    "    "
   ]
  }
 ],
 "metadata": {
  "kernelspec": {
   "display_name": "Python 3",
   "language": "python",
   "name": "python3"
  },
  "language_info": {
   "codemirror_mode": {
    "name": "ipython",
    "version": 3
   },
   "file_extension": ".py",
   "mimetype": "text/x-python",
   "name": "python",
   "nbconvert_exporter": "python",
   "pygments_lexer": "ipython3",
   "version": "3.7.6"
  }
 },
 "nbformat": 4,
 "nbformat_minor": 4
}
